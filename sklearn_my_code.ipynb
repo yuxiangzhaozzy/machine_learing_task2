{
 "cells": [
  {
   "cell_type": "code",
   "execution_count": 1,
   "metadata": {},
   "outputs": [
    {
     "name": "stderr",
     "output_type": "stream",
     "text": [
      "/home/zzy/anaconda3/lib/python3.7/site-packages/sklearn/utils/deprecation.py:85: DeprecationWarning: Function fetch_mldata is deprecated; fetch_mldata was deprecated in version 0.20 and will be removed in version 0.22. Please use fetch_openml.\n",
      "  warnings.warn(msg, category=DeprecationWarning)\n",
      "/home/zzy/anaconda3/lib/python3.7/site-packages/sklearn/utils/deprecation.py:85: DeprecationWarning: Function mldata_filename is deprecated; mldata_filename was deprecated in version 0.20 and will be removed in version 0.22. Please use fetch_openml.\n",
      "  warnings.warn(msg, category=DeprecationWarning)\n",
      "/home/zzy/anaconda3/lib/python3.7/site-packages/sklearn/linear_model/logistic.py:432: FutureWarning: Default solver will be changed to 'lbfgs' in 0.22. Specify a solver to silence this warning.\n",
      "  FutureWarning)\n",
      "/home/zzy/anaconda3/lib/python3.7/site-packages/sklearn/linear_model/logistic.py:469: FutureWarning: Default multi_class will be changed to 'auto' in 0.22. Specify the multi_class option to silence this warning.\n",
      "  \"this warning.\", FutureWarning)\n",
      "/home/zzy/anaconda3/lib/python3.7/site-packages/sklearn/linear_model/logistic.py:432: FutureWarning: Default solver will be changed to 'lbfgs' in 0.22. Specify a solver to silence this warning.\n",
      "  FutureWarning)\n",
      "/home/zzy/anaconda3/lib/python3.7/site-packages/sklearn/linear_model/logistic.py:469: FutureWarning: Default multi_class will be changed to 'auto' in 0.22. Specify the multi_class option to silence this warning.\n",
      "  \"this warning.\", FutureWarning)\n"
     ]
    },
    {
     "name": "stdout",
     "output_type": "stream",
     "text": [
      "Training accuracy: 86.68%\n",
      "Testing accuracy: 99.70%\n",
      "Training accuracy: 82.58%\n",
      "Testing accuracy: 84.70%\n"
     ]
    },
    {
     "name": "stderr",
     "output_type": "stream",
     "text": [
      "/home/zzy/anaconda3/lib/python3.7/site-packages/sklearn/svm/base.py:929: ConvergenceWarning: Liblinear failed to converge, increase the number of iterations.\n",
      "  \"the number of iterations.\", ConvergenceWarning)\n"
     ]
    },
    {
     "name": "stdout",
     "output_type": "stream",
     "text": [
      "Training accuracy: 84.08%\n",
      "Testing accuracy: 100.00%\n",
      "Training accuracy: 86.32%\n",
      "Testing accuracy: 94.60%\n"
     ]
    }
   ],
   "source": [
    "from matplotlib.pyplot import imshow, show\n",
    "from sklearn.datasets import fetch_mldata\n",
    "from sklearn.model_selection import train_test_split\n",
    "from sklearn.linear_model import LogisticRegression\n",
    "from sklearn.naive_bayes import BernoulliNB\n",
    "from sklearn.svm import LinearSVC\n",
    "from sklearn import metrics\n",
    "\n",
    "# download and read mnist\n",
    "mnist = fetch_mldata('MNIST original', data_home='./')\n",
    "\n",
    "# 'mnist.data' is 70k x 784 array, each row represents the pixels from a 28x28=784 image\n",
    "# 'mnist.target' is 70k x 1 array, each row represents the target class of the corresponding image\n",
    "images = mnist.data\n",
    "targets = mnist.target\n",
    "\n",
    "# make the value of pixels from [0, 255] to [0, 1] for further process\n",
    "X = mnist.data / 255.\n",
    "Y = mnist.target\n",
    "\n",
    "# print the first image of the dataset\n",
    "#img1 = X[0].reshape(28, 28)\n",
    "#imshow(img1, cmap='gray')\n",
    "#show()\n",
    "\n",
    "# print the images after simple transformation\n",
    "#img2 = 1 - img1\n",
    "#imshow(img2, cmap='gray')\n",
    "#show()\n",
    "\n",
    "#img3 = img1.transpose()\n",
    "#imshow(img3, cmap='gray')\n",
    "#show()\n",
    "\n",
    "X_train, X_test, Y_train, Y_test = train_test_split(X[::10], Y[::10], test_size=1000)\n",
    "\n",
    "# logisticRegression\n",
    "lr = LogisticRegression()\n",
    "lr1 = lr.fit(X_train, Y_train)\n",
    "lr2 = lr.predict(X_test, Y_test)\n",
    "train_accuracy = lr.score(X_train, Y_train)\n",
    "print(lr2)\n",
    "\n",
    "print('Training accuracy: %0.2f%%' % (train_accuracy*100))\n",
    "print('Testing accuracy: %0.2f%%' % (test_accuracy*100))\n",
    "\n",
    "#贝叶斯决策分类器\n",
    "nb_model = BernoulliNB(alpha=1.0, binarize=None, class_prior=None, fit_prior=True)\n",
    "nb_model1 = nb_model.fit(X_train, Y_train)\n",
    "nb_model2= nb_model.fit(X_test, Y_test)\n",
    "train_accuracy = nb_model.score(X_train, Y_train)\n",
    "test_accuracy = nb_model.score(X_test, Y_test)\n",
    "\n",
    "print('Training accuracy: %0.2f%%' % (train_accuracy*100))\n",
    "print('Testing accuracy: %0.2f%%' % (test_accuracy*100))\n",
    "\n",
    "#支持向量机分类器\n",
    "Lsvm = LinearSVC()\n",
    "lsvm1 = Lsvm.fit(X_train, Y_train)\n",
    "lsvm2 = Lsvm.fit(X_test, Y_test)\n",
    "train_accuracy = Lsvm.score(X_train, Y_train)\n",
    "test_accuracy = Lsvm.score(X_test, Y_test)\n",
    "\n",
    "print('Training accuracy: %0.2f%%' % (train_accuracy*100))\n",
    "print('Testing accuracy: %0.2f%%' % (test_accuracy*100))\n",
    "\n",
    "#调整支持向量机函数参数改进\n",
    "Lsvm = LinearSVC(penalty='l2', loss='squared_hinge', dual=True, tol=0.0001, C=0.01, multi_class='ovr', fit_intercept=True, intercept_scaling=1, class_weight=None, verbose=0, random_state=None, max_iter=10000)\n",
    "lsvm1 = Lsvm.fit(X_train, Y_train)\n",
    "lsvm2 = Lsvm.fit(X_test, Y_test)\n",
    "train_accuracy = Lsvm.score(X_train, Y_train)\n",
    "test_accuracy = Lsvm.score(X_test, Y_test)\n",
    "\n",
    "print('Training accuracy: %0.2f%%' % (train_accuracy*100))\n",
    "print('Testing accuracy: %0.2f%%' % (test_accuracy*100))"
   ]
  },
  {
   "cell_type": "code",
   "execution_count": null,
   "metadata": {},
   "outputs": [],
   "source": []
  }
 ],
 "metadata": {
  "kernelspec": {
   "display_name": "Python 3",
   "language": "python",
   "name": "python3"
  },
  "language_info": {
   "codemirror_mode": {
    "name": "ipython",
    "version": 3
   },
   "file_extension": ".py",
   "mimetype": "text/x-python",
   "name": "python",
   "nbconvert_exporter": "python",
   "pygments_lexer": "ipython3",
   "version": "3.7.4"
  }
 },
 "nbformat": 4,
 "nbformat_minor": 2
}
