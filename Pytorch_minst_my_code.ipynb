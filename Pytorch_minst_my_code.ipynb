{
 "cells": [
  {
   "cell_type": "code",
   "execution_count": 1,
   "metadata": {},
   "outputs": [],
   "source": [
    "import torch\n",
    "import torch.nn as nn\n",
    "import torch.utils.data as data\n",
    "import torchvision\n",
    "import torch.nn.functional as F\n",
    "import torchvision.transforms as transforms\n",
    "from tqdm import tqdm\n",
    "import torch.optim as optim\n",
    "import time\n",
    "\n",
    "BATCH_SIZE = 128\n",
    "NUM_EPOCHS = 10"
   ]
  },
  {
   "cell_type": "code",
   "execution_count": 2,
   "metadata": {},
   "outputs": [],
   "source": [
    "# preprocessing\n",
    "normalize = transforms.Normalize(mean=[.5], std=[.5])\n",
    "transform = transforms.Compose([transforms.ToTensor(), normalize])\n",
    "\n",
    "# download and load the data\n",
    "train_dataset = torchvision.datasets.MNIST(root='./mnist/', train=True, transform=transform, download=True)\n",
    "test_dataset = torchvision.datasets.MNIST(root='./mnist/', train=False, transform=transform, download=False)\n",
    "\n",
    "# encapsulate them into dataloader form\n",
    "train_loader = data.DataLoader(train_dataset, batch_size=BATCH_SIZE, shuffle=True, drop_last=True)\n",
    "test_loader = data.DataLoader(test_dataset, batch_size=BATCH_SIZE, shuffle=False, drop_last=True)\n",
    "\n",
    "# using CPU\n",
    "DEVICE = torch.device(\"cpu\")"
   ]
  },
  {
   "cell_type": "code",
   "execution_count": 3,
   "metadata": {
    "scrolled": true
   },
   "outputs": [],
   "source": [
    "class SimpleNet(nn.Module):\n",
    "# TODO:define model\n",
    "    def __init__(self):\n",
    "        super().__init__()\n",
    "        self.conv1 = nn.Conv2d(1, 10, kernel_size=(6, 6))  # input:(1,28,28) output:(10,24,24)\n",
    "        self.conv2 = nn.Conv2d(10, 20, kernel_size=(2, 2))  # input:(10,12,12) output:(20,10,10)\n",
    "        self.fc1 = nn.Linear(20*10*10, 500)\n",
    "        self.fc2 = nn.Linear(500, 10)  # AX+B\n",
    "\n",
    "    def forward(self, x):\n",
    "        in_size = x.size(0)\n",
    "        out = self.conv1(x)\n",
    "        out = F.relu(out)\n",
    "        out = F.max_pool2d(out, (2, 2))\n",
    "        out = self.conv2(out)\n",
    "        out = F.relu(out)\n",
    "        out = out.view(in_size, -1)\n",
    "        out = self.fc1(out)\n",
    "        out = F.relu(out)\n",
    "        out = self.fc2(out)\n",
    "        out = F.log_softmax(out, dim=1)\n",
    "        return out\n",
    "    \n",
    "    \n",
    "model = SimpleNet().to(DEVICE)   # use CPU\n",
    "\n",
    "# TODO:define loss function and optimiter\n",
    "criterion = nn.CrossEntropyLoss()\n",
    "optimizer = optim.SGD(model.parameters(), lr=0.01)"
   ]
  },
  {
   "cell_type": "code",
   "execution_count": 7,
   "metadata": {},
   "outputs": [
    {
     "name": "stderr",
     "output_type": "stream",
     "text": [
      "100%|██████████| 468/468 [00:15<00:00, 30.45it/s]\n",
      "100%|██████████| 468/468 [00:17<00:00, 26.50it/s]\n",
      "100%|██████████| 468/468 [00:18<00:00, 25.73it/s]\n",
      "100%|██████████| 468/468 [00:16<00:00, 28.58it/s]\n",
      "100%|██████████| 468/468 [00:18<00:00, 25.33it/s]\n",
      "100%|██████████| 468/468 [00:18<00:00, 24.89it/s]\n",
      "100%|██████████| 468/468 [00:18<00:00, 25.15it/s]\n",
      "100%|██████████| 468/468 [00:18<00:00, 25.38it/s]\n",
      "100%|██████████| 468/468 [00:18<00:00, 24.89it/s]\n",
      "100%|██████████| 468/468 [00:18<00:00, 24.97it/s]\n",
      "  5%|▌         | 4/78 [00:00<00:02, 33.21it/s]"
     ]
    },
    {
     "name": "stdout",
     "output_type": "stream",
     "text": [
      "\n",
      "Train Accuracy: 59421/60000 (99%)\n",
      "\n"
     ]
    },
    {
     "name": "stderr",
     "output_type": "stream",
     "text": [
      "100%|██████████| 78/78 [00:01<00:00, 48.74it/s]\n",
      "100%|██████████| 78/78 [00:01<00:00, 51.91it/s]\n",
      "100%|██████████| 78/78 [00:01<00:00, 51.80it/s]\n",
      "100%|██████████| 78/78 [00:01<00:00, 51.03it/s]\n",
      "100%|██████████| 78/78 [00:01<00:00, 51.47it/s]\n",
      "100%|██████████| 78/78 [00:01<00:00, 51.51it/s]\n",
      "100%|██████████| 78/78 [00:01<00:00, 51.55it/s]\n",
      "100%|██████████| 78/78 [00:01<00:00, 51.46it/s]\n",
      "100%|██████████| 78/78 [00:01<00:00, 51.33it/s]\n",
      "100%|██████████| 78/78 [00:01<00:00, 51.88it/s]"
     ]
    },
    {
     "name": "stdout",
     "output_type": "stream",
     "text": [
      "\n",
      "Test Accuracy: 9848/10000 (98%)\n",
      "\n"
     ]
    },
    {
     "name": "stderr",
     "output_type": "stream",
     "text": [
      "\n"
     ]
    }
   ],
   "source": [
    "# train and evaluate\n",
    "for epoch in range(NUM_EPOCHS):\n",
    "    model.train()\n",
    "    correct = 0\n",
    "    for images, labels in tqdm(train_loader):\n",
    "        images, labels = images.to(DEVICE), labels.to(DEVICE)\n",
    "        optimizer.zero_grad()\n",
    "        output = model(images)\n",
    "        loss = criterion(output, labels)\n",
    "        loss.backward()\n",
    "        optimizer.step()\n",
    "        pred = output.max(1, keepdim=True)[1] # 找到概率最大的下标\n",
    "        correct += pred.eq(labels.view_as(pred)).sum().item()\n",
    "        \n",
    "print('\\nTrain Accuracy: {}/{} ({:.0f}%)\\n'.format(\n",
    "        correct, len(train_loader.dataset),\n",
    "        100.*correct / len(train_loader.dataset)))\n",
    "\n",
    "for epoch in range(NUM_EPOCHS):\n",
    "    #model.eval()\n",
    "    correct = 0\n",
    "    with torch.no_grad():\n",
    "        for images, labels in tqdm(test_loader):\n",
    "            images, labels = images.to(DEVICE), labels.to(DEVICE)\n",
    "            optimizer.zero_grad()\n",
    "            output = model(images)\n",
    "            pred = output.max(1, keepdim=True)[1] # 找到概率最大的下标\n",
    "            correct += pred.eq(labels.view_as(pred)).sum().item()  \n",
    "            \n",
    "print('\\nTest Accuracy: {}/{} ({:.0f}%)\\n'.format(\n",
    "        correct, len(test_loader.dataset),\n",
    "        100.*correct / len(test_loader.dataset)))       \n",
    "        \n",
    "        \n",
    "        \n",
    "    # evaluate\n",
    "    # TODO:calculate the accuracy using traning and testing dataset"
   ]
  },
  {
   "cell_type": "code",
   "execution_count": null,
   "metadata": {},
   "outputs": [],
   "source": []
  }
 ],
 "metadata": {
  "kernelspec": {
   "display_name": "Python 3",
   "language": "python",
   "name": "python3"
  },
  "language_info": {
   "codemirror_mode": {
    "name": "ipython",
    "version": 3
   },
   "file_extension": ".py",
   "mimetype": "text/x-python",
   "name": "python",
   "nbconvert_exporter": "python",
   "pygments_lexer": "ipython3",
   "version": "3.7.4"
  }
 },
 "nbformat": 4,
 "nbformat_minor": 2
}
